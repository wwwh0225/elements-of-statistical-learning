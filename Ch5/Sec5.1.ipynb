{
  "cells": [
    {
      "cell_type": "markdown",
      "metadata": {
        "colab_type": "text",
        "id": "view-in-github"
      },
      "source": [
        "<a href=\"https://colab.research.google.com/github/wwwh0225/elements-of-statistical-learning/blob/main/Ch5.ipynb\" target=\"_parent\"><img src=\"https://colab.research.google.com/assets/colab-badge.svg\" alt=\"Open In Colab\"/></a>"
      ]
    },
    {
      "cell_type": "markdown",
      "metadata": {
        "id": "n9Y4ORV2SsVv"
      },
      "source": [
        "## Introduction\n",
        "\n",
        "在先前我們所討論的模型，如線性迴歸、LDA、羅吉斯迴歸等皆是透過樣本資料建立線性關係，而真實的 $f(X)$ 很可能不是線性的，而發展出線性模型除了方便和易解釋之外，也可以將其視為 $f(X)$ 的一階泰勒逼近。在這個章節，我們希望透過配適各種 $X$ 的轉換來建構 $f(X)$ 。\n",
        "\n",
        "我們定義第 $m$ 個 $X$ 的轉換為 $h_m(X): \\mathbb{R}^p \\rightarrow \\mathbb{R}$，而 $m = 1,\\cdots,M$ ，可得：\n",
        "\n",
        "$$f(X) = \\sum_{m=1}^M \\beta_m h_m(X)$$\n",
        "\n",
        "此即 $X$ 的線性基底展開式(linear basis expansion)，當我們決定好 $h_m$ 後，即可進行配適。以下是一些常見 $h_m$ 的範例：\n",
        "\n",
        "- $h_m(X) = X_m,\\ m=1,\\cdots,p$ 即會轉回原本的線性模型。\n",
        "- $h_m(X) = X^2_j$ 或 $h_m(X)=X_j X_k$ 也就是多項式的逼近(更高階的泰勒逼近)，但這會導致多項式的維度過大。\n",
        "- $h_m(X) = \\log(X_j),\\sqrt{X_j},\\cdots$ 此為 $X$ 的非線性轉換。\n",
        "- $h_m(X) = I(L_m \\leq X_k \\leq U_m)$ ，由於 $I(\\cdot)$ 為指示函數，故模型為此為 piecewise constant model 。\n",
        "\n",
        "多項式函數是使用基底展開 $f(X)$ 的好例子，但其也有模型的缺點，就是在 remote regions (可以想像是左右兩端) 的震盪較大，但可以較好的配適中間的部分。\n",
        "\n",
        "下列有三種比較適當的方式可以提供我們選擇 spline 函數的指引\n",
        "\n",
        "1. Restriction methods：也就是**事先**決定好函數的種類，比如我們限制模型具備可加性，也就是將每個 $f_j(\\cdot)$ 切成 $M_j$ 段相加。\n",
        "\n",
        "$$f(X) = \\sum_{j=1}^p f_j(X_j) = \\sum_{j=1}^p \\sum_{m=1}^{M_j}\\beta_{jm}h_{jm}(X_j)$$\n",
        "\n",
        "2. Selection methods：只選擇包含對模型顯著的基底函數，比如說一些 stagewise greedy 的方法 CART、MARS 等方法。\n",
        "\n",
        "3. Regularization methods：我們可以使用所有的 basis dictionary ，但是我們對係數做了限制，比如說 ridge regression。"
      ]
    }
  ],
  "metadata": {
    "colab": {
      "authorship_tag": "ABX9TyO/HEGE3AoKsxELhxeNeBXZ",
      "include_colab_link": true,
      "provenance": []
    },
    "kernelspec": {
      "display_name": "R",
      "name": "ir"
    },
    "language_info": {
      "name": "R"
    }
  },
  "nbformat": 4,
  "nbformat_minor": 0
}
